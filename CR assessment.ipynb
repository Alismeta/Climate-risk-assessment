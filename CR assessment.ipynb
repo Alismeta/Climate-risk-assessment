{
 "cells": [
  {
   "cell_type": "code",
   "execution_count": 1,
   "id": "5e3861ca",
   "metadata": {},
   "outputs": [],
   "source": [
    "import pandas as pd\n",
    "from scipy.io import netcdf\n",
    "import numpy as np\n",
    "import matplotlib\n",
    "import matplotlib.pyplot as plt\n",
    "import netCDF4\n",
    "\n",
    "from sklearn.linear_model import LinearRegression\n",
    "from sklearn.ensemble import RandomForestRegressor\n",
    "from sklearn.metrics import mean_squared_error,mean_absolute_error, mean_absolute_percentage_error\n",
    "\n",
    "from catboost import CatBoostRegressor\n",
    "from sklearn.model_selection import GridSearchCV\n",
    "\n",
    "import optuna\n",
    "\n",
    "import seaborn as sns\n",
    "\n",
    "\n",
    "from sklearn.model_selection import train_test_split\n",
    "from sklearn.preprocessing import StandardScaler\n",
    "\n"
   ]
  },
  {
   "cell_type": "code",
   "execution_count": null,
   "id": "4c29a2c1",
   "metadata": {},
   "outputs": [],
   "source": []
  },
  {
   "cell_type": "code",
   "execution_count": 5,
   "id": "64984153",
   "metadata": {},
   "outputs": [],
   "source": [
    "#temperature\n",
    "file2read = netCDF4.Dataset('D:/Kpt/t2.nc4','r')\n",
    "\n",
    "t2=np.array(file2read.variables['t2m']) "
   ]
  },
  {
   "cell_type": "code",
   "execution_count": 20,
   "id": "56fc3987",
   "metadata": {},
   "outputs": [],
   "source": [
    "#dewpoint\n",
    "file2read = netCDF4.Dataset('D:/Kpt/td.nc4','r')\n",
    "\n",
    "dt = np.array(file2read.variables['d2m']) "
   ]
  },
  {
   "cell_type": "code",
   "execution_count": 17,
   "id": "7d121951",
   "metadata": {},
   "outputs": [],
   "source": [
    "file2read = netCDF4.Dataset('D:/Kpt/tp.nc4','r')\n",
    "\n",
    "tp=np.array(file2read.variables['tp']) "
   ]
  },
  {
   "cell_type": "code",
   "execution_count": 101,
   "id": "0db70ad9",
   "metadata": {},
   "outputs": [
    {
     "name": "stdout",
     "output_type": "stream",
     "text": [
      "longitude  [87.   87.25 87.5  87.75 88.   88.25 88.5  88.75 89.  ]\n",
      "latitude  [70.   69.75 69.5  69.25 69.   68.75 68.5  68.25 68.  ]\n"
     ]
    }
   ],
   "source": [
    "#localisation\n",
    "#as a first step consider 3,5 closest to Norilsk lat = 69.25, lon = 88.25\n",
    "latitude = np.array(file2read.variables['latitude'])\n",
    "longitude = np.array(file2read.variables['longitude'])\n",
    "\n",
    "print('longitude ',longitude)\n",
    "print('latitude ',latitude)"
   ]
  },
  {
   "cell_type": "code",
   "execution_count": 19,
   "id": "c61aaa77",
   "metadata": {},
   "outputs": [
    {
     "data": {
      "text/plain": [
       "(1, 8402, 1, 1, 9, 9)"
      ]
     },
     "execution_count": 19,
     "metadata": {},
     "output_type": "execute_result"
    }
   ],
   "source": [
    "tp.shape"
   ]
  },
  {
   "cell_type": "code",
   "execution_count": 21,
   "id": "6dfc44b6",
   "metadata": {},
   "outputs": [
    {
     "data": {
      "text/plain": [
       "(1, 8402, 1, 1, 9, 9)"
      ]
     },
     "execution_count": 21,
     "metadata": {},
     "output_type": "execute_result"
    }
   ],
   "source": [
    "dt.shape"
   ]
  },
  {
   "cell_type": "code",
   "execution_count": 22,
   "id": "ad965f46",
   "metadata": {},
   "outputs": [
    {
     "data": {
      "text/plain": [
       "(1, 8402, 1, 1, 9, 9)"
      ]
     },
     "execution_count": 22,
     "metadata": {},
     "output_type": "execute_result"
    }
   ],
   "source": [
    "t2.shape"
   ]
  },
  {
   "cell_type": "code",
   "execution_count": 29,
   "id": "b7060187",
   "metadata": {},
   "outputs": [
    {
     "data": {
      "text/plain": [
       "masked_array(data=946728000,\n",
       "             mask=False,\n",
       "       fill_value=999999,\n",
       "            dtype=int64)"
      ]
     },
     "execution_count": 29,
     "metadata": {},
     "output_type": "execute_result"
    }
   ],
   "source": [
    "file2read.variables['time'][0]"
   ]
  },
  {
   "cell_type": "code",
   "execution_count": 285,
   "id": "82974221",
   "metadata": {},
   "outputs": [],
   "source": [
    "from datetime import date\n",
    "\n",
    "datelist = pd.date_range(start=\"2000-01-01\",end=\"2023-01-01\")\n",
    "month = pd.DataFrame([x.month for x in datelist])\n",
    "num = month[month.isin([4,5,6,7,8,9])].index"
   ]
  },
  {
   "cell_type": "code",
   "execution_count": 295,
   "id": "cdb71fa5",
   "metadata": {},
   "outputs": [],
   "source": [
    "condition = month.isin([4,5,6,7,8,9])\n",
    "num=condition[condition[0]==1].index"
   ]
  },
  {
   "cell_type": "code",
   "execution_count": 276,
   "id": "8ad0ad55",
   "metadata": {},
   "outputs": [],
   "source": [
    "#extract whole timeseries from cell3,5 for months warm_season\n",
    "\n",
    "precipitation = tp[0, month.isin([4,5,6,7,8,9]), 0, 3, 5]*24000 #24 hours 1000 mm in 1 metre\n",
    "temperature = t2[0, month.isin([4,5,6,7,8,9]), 0, 3, 5]\n",
    "dewpoint = dt[0, month.isin([4,5,6,7,8,9]), 0, 3, 5]\n",
    "\n",
    "days_number = len(precipitation)"
   ]
  },
  {
   "cell_type": "code",
   "execution_count": 103,
   "id": "4d47a656",
   "metadata": {},
   "outputs": [
    {
     "data": {
      "text/plain": [
       "[<matplotlib.lines.Line2D at 0x8f0d0e93d0>]"
      ]
     },
     "execution_count": 103,
     "metadata": {},
     "output_type": "execute_result"
    },
    {
     "data": {
      "image/png": "[encoded data removed]",
      "text/plain": [
       "<Figure size 640x480 with 1 Axes>"
      ]
     },
     "metadata": {},
     "output_type": "display_data"
    }
   ],
   "source": [
    "plt.plot(precipitation)"
   ]
  },
  {
   "cell_type": "code",
   "execution_count": 104,
   "id": "7a9c7bed",
   "metadata": {},
   "outputs": [
    {
     "data": {
      "text/plain": [
       "[<matplotlib.lines.Line2D at 0x8f0e47b690>]"
      ]
     },
     "execution_count": 104,
     "metadata": {},
     "output_type": "execute_result"
    },
    {
     "data": {
      "image/png": "[encoded data removed]",
      "text/plain": [
       "<Figure size 640x480 with 1 Axes>"
      ]
     },
     "metadata": {},
     "output_type": "display_data"
    }
   ],
   "source": [
    "plt.plot(temperature-273)"
   ]
  },
  {
   "cell_type": "code",
   "execution_count": 105,
   "id": "8d768bed",
   "metadata": {},
   "outputs": [
    {
     "data": {
      "text/plain": [
       "[<matplotlib.lines.Line2D at 0x8f0e4bc3d0>]"
      ]
     },
     "execution_count": 105,
     "metadata": {},
     "output_type": "execute_result"
    },
    {
     "data": {
      "image/png": "[encoded data removed]",
      "text/plain": [
       "<Figure size 640x480 with 1 Axes>"
      ]
     },
     "metadata": {},
     "output_type": "display_data"
    }
   ],
   "source": [
    "plt.plot(dewpoint-273)"
   ]
  },
  {
   "cell_type": "markdown",
   "id": "c9f18bd4",
   "metadata": {},
   "source": [
    "### Nesterov index calculation"
   ]
  },
  {
   "cell_type": "code",
   "execution_count": 164,
   "id": "1b780be7",
   "metadata": {},
   "outputs": [],
   "source": [
    "#Nesterov index calculation\n",
    "\n",
    "days_after_rain = precipitation\n",
    "\n",
    "for i in range(days_number):\n",
    "    if precipitation[i] > 0.2:\n",
    "        days_after_rain[i] = 0\n",
    "    else:\n",
    "        if i>0:\n",
    "            days_after_rain[i] = days_after_rain[i-1] + 1\n",
    "        else:\n",
    "            days_after_rain[0] = 0\n",
    "            \n",
    "days_after_rain =list(days_after_rain.astype('int'))"
   ]
  },
  {
   "cell_type": "code",
   "execution_count": 165,
   "id": "5eafab6e",
   "metadata": {},
   "outputs": [
    {
     "data": {
      "text/plain": [
       "[<matplotlib.lines.Line2D at 0x8f1422fa10>]"
      ]
     },
     "execution_count": 165,
     "metadata": {},
     "output_type": "execute_result"
    },
    {
     "data": {
      "image/png": "[encoded data removed]",
      "text/plain": [
       "<Figure size 640x480 with 1 Axes>"
      ]
     },
     "metadata": {},
     "output_type": "display_data"
    }
   ],
   "source": [
    "plt.plot(days_after_rain)"
   ]
  },
  {
   "cell_type": "code",
   "execution_count": 166,
   "id": "a32b64c0",
   "metadata": {},
   "outputs": [],
   "source": [
    "# temperature deficit\n",
    "deficit = temperature - dewpoint"
   ]
  },
  {
   "cell_type": "code",
   "execution_count": 178,
   "id": "6a0e75be",
   "metadata": {},
   "outputs": [],
   "source": [
    "# Nesterov index calculation\n",
    "nesterov_index = precipitation # initialisation\n",
    "for i in range(len(precipitation)):\n",
    "    sum = 0\n",
    "    for j in range(days_after_rain[i]):\n",
    "        sum = sum + (temperature[i-j] - 273)*deficit[i-j]\n",
    "    nesterov_index[i] = sum"
   ]
  },
  {
   "cell_type": "code",
   "execution_count": 182,
   "id": "da7098cc",
   "metadata": {},
   "outputs": [
    {
     "data": {
      "text/plain": [
       "(array([2.00e+00, 1.00e+00, 1.00e+01, 1.30e+01, 5.40e+01, 2.28e+02,\n",
       "        3.19e+03, 3.38e+02, 1.78e+02, 7.40e+01, 4.70e+01, 2.70e+01,\n",
       "        1.50e+01, 1.30e+01, 7.00e+00, 5.00e+00, 6.00e+00, 0.00e+00,\n",
       "        0.00e+00, 1.00e+00]),\n",
       " array([-413.96173096, -348.0619812 , -282.16223145, -216.26249695,\n",
       "        -150.36274719,  -84.46299744,  -18.5632515 ,   47.33649445,\n",
       "         113.2362442 ,  179.13598633,  245.03573608,  310.93548584,\n",
       "         376.8352356 ,  442.73498535,  508.63473511,  574.53448486,\n",
       "         640.4342041 ,  706.33398438,  772.23370361,  838.13348389,\n",
       "         904.03320312]),\n",
       " <BarContainer object of 20 artists>)"
      ]
     },
     "execution_count": 182,
     "metadata": {},
     "output_type": "execute_result"
    },
    {
     "data": {
      "image/png": "[encoded data removed]",
      "text/plain": [
       "<Figure size 640x480 with 1 Axes>"
      ]
     },
     "metadata": {},
     "output_type": "display_data"
    }
   ],
   "source": [
    "plt.hist(nesterov_index, bins=20)"
   ]
  },
  {
   "cell_type": "markdown",
   "id": "0157d71d",
   "metadata": {},
   "source": [
    "### Import fires files"
   ]
  },
  {
   "cell_type": "code",
   "execution_count": 142,
   "id": "7e5e2410",
   "metadata": {},
   "outputs": [],
   "source": [
    "fires_M = pd.read_csv('D:/Kpt/fires_MODIS.csv',\n",
    "                        sep=',',\n",
    "                        skip_blank_lines=True \n",
    "                        #,names=['date','time','ppb']\n",
    "                      )# parse_dates=[0,1]"
   ]
  },
  {
   "cell_type": "code",
   "execution_count": 143,
   "id": "a31dbe1c",
   "metadata": {},
   "outputs": [
    {
     "data": {
      "text/html": [
       "<div>\n",
       "<style scoped>\n",
       "    .dataframe tbody tr th:only-of-type {\n",
       "        vertical-align: middle;\n",
       "    }\n",
       "\n",
       "    .dataframe tbody tr th {\n",
       "        vertical-align: top;\n",
       "    }\n",
       "\n",
       "    .dataframe thead th {\n",
       "        text-align: right;\n",
       "    }\n",
       "</style>\n",
       "<table border=\"1\" class=\"dataframe\">\n",
       "  <thead>\n",
       "    <tr style=\"text-align: right;\">\n",
       "      <th></th>\n",
       "      <th>latitude</th>\n",
       "      <th>longitude</th>\n",
       "      <th>brightness</th>\n",
       "      <th>scan</th>\n",
       "      <th>track</th>\n",
       "      <th>acq_date</th>\n",
       "      <th>acq_time</th>\n",
       "      <th>satellite</th>\n",
       "      <th>instrument</th>\n",
       "      <th>confidence</th>\n",
       "      <th>version</th>\n",
       "      <th>bright_t31</th>\n",
       "      <th>frp</th>\n",
       "      <th>daynight</th>\n",
       "      <th>type</th>\n",
       "    </tr>\n",
       "  </thead>\n",
       "  <tbody>\n",
       "    <tr>\n",
       "      <th>0</th>\n",
       "      <td>69.3681</td>\n",
       "      <td>88.1128</td>\n",
       "      <td>310.7</td>\n",
       "      <td>1.1</td>\n",
       "      <td>1.0</td>\n",
       "      <td>2001-05-09</td>\n",
       "      <td>1535</td>\n",
       "      <td>Terra</td>\n",
       "      <td>MODIS</td>\n",
       "      <td>72</td>\n",
       "      <td>6.03</td>\n",
       "      <td>267.0</td>\n",
       "      <td>17.8</td>\n",
       "      <td>N</td>\n",
       "      <td>2</td>\n",
       "    </tr>\n",
       "    <tr>\n",
       "      <th>1</th>\n",
       "      <td>69.3674</td>\n",
       "      <td>88.1255</td>\n",
       "      <td>322.6</td>\n",
       "      <td>1.2</td>\n",
       "      <td>1.1</td>\n",
       "      <td>2001-05-23</td>\n",
       "      <td>1547</td>\n",
       "      <td>Terra</td>\n",
       "      <td>MODIS</td>\n",
       "      <td>100</td>\n",
       "      <td>6.03</td>\n",
       "      <td>268.1</td>\n",
       "      <td>32.5</td>\n",
       "      <td>N</td>\n",
       "      <td>2</td>\n",
       "    </tr>\n",
       "    <tr>\n",
       "      <th>2</th>\n",
       "      <td>69.3737</td>\n",
       "      <td>88.0945</td>\n",
       "      <td>303.3</td>\n",
       "      <td>2.2</td>\n",
       "      <td>1.4</td>\n",
       "      <td>2001-06-08</td>\n",
       "      <td>742</td>\n",
       "      <td>Terra</td>\n",
       "      <td>MODIS</td>\n",
       "      <td>52</td>\n",
       "      <td>6.03</td>\n",
       "      <td>275.9</td>\n",
       "      <td>24.1</td>\n",
       "      <td>D</td>\n",
       "      <td>2</td>\n",
       "    </tr>\n",
       "    <tr>\n",
       "      <th>3</th>\n",
       "      <td>69.3597</td>\n",
       "      <td>88.1351</td>\n",
       "      <td>305.4</td>\n",
       "      <td>2.2</td>\n",
       "      <td>1.5</td>\n",
       "      <td>2001-06-08</td>\n",
       "      <td>742</td>\n",
       "      <td>Terra</td>\n",
       "      <td>MODIS</td>\n",
       "      <td>61</td>\n",
       "      <td>6.03</td>\n",
       "      <td>278.3</td>\n",
       "      <td>27.0</td>\n",
       "      <td>D</td>\n",
       "      <td>2</td>\n",
       "    </tr>\n",
       "    <tr>\n",
       "      <th>4</th>\n",
       "      <td>69.3093</td>\n",
       "      <td>88.2542</td>\n",
       "      <td>307.4</td>\n",
       "      <td>1.9</td>\n",
       "      <td>1.3</td>\n",
       "      <td>2001-06-09</td>\n",
       "      <td>509</td>\n",
       "      <td>Terra</td>\n",
       "      <td>MODIS</td>\n",
       "      <td>50</td>\n",
       "      <td>6.03</td>\n",
       "      <td>286.4</td>\n",
       "      <td>20.7</td>\n",
       "      <td>D</td>\n",
       "      <td>2</td>\n",
       "    </tr>\n",
       "    <tr>\n",
       "      <th>...</th>\n",
       "      <td>...</td>\n",
       "      <td>...</td>\n",
       "      <td>...</td>\n",
       "      <td>...</td>\n",
       "      <td>...</td>\n",
       "      <td>...</td>\n",
       "      <td>...</td>\n",
       "      <td>...</td>\n",
       "      <td>...</td>\n",
       "      <td>...</td>\n",
       "      <td>...</td>\n",
       "      <td>...</td>\n",
       "      <td>...</td>\n",
       "      <td>...</td>\n",
       "      <td>...</td>\n",
       "    </tr>\n",
       "    <tr>\n",
       "      <th>4509</th>\n",
       "      <td>69.3669</td>\n",
       "      <td>88.0956</td>\n",
       "      <td>324.7</td>\n",
       "      <td>1.5</td>\n",
       "      <td>1.2</td>\n",
       "      <td>2022-09-20</td>\n",
       "      <td>1358</td>\n",
       "      <td>Terra</td>\n",
       "      <td>MODIS</td>\n",
       "      <td>100</td>\n",
       "      <td>6.03</td>\n",
       "      <td>269.8</td>\n",
       "      <td>53.8</td>\n",
       "      <td>N</td>\n",
       "      <td>2</td>\n",
       "    </tr>\n",
       "    <tr>\n",
       "      <th>4510</th>\n",
       "      <td>69.3752</td>\n",
       "      <td>88.1272</td>\n",
       "      <td>326.3</td>\n",
       "      <td>1.5</td>\n",
       "      <td>1.2</td>\n",
       "      <td>2022-09-20</td>\n",
       "      <td>1358</td>\n",
       "      <td>Terra</td>\n",
       "      <td>MODIS</td>\n",
       "      <td>100</td>\n",
       "      <td>6.03</td>\n",
       "      <td>270.6</td>\n",
       "      <td>57.0</td>\n",
       "      <td>N</td>\n",
       "      <td>2</td>\n",
       "    </tr>\n",
       "    <tr>\n",
       "      <th>4511</th>\n",
       "      <td>69.3684</td>\n",
       "      <td>88.1217</td>\n",
       "      <td>311.5</td>\n",
       "      <td>1.8</td>\n",
       "      <td>1.3</td>\n",
       "      <td>2022-09-25</td>\n",
       "      <td>1554</td>\n",
       "      <td>Terra</td>\n",
       "      <td>MODIS</td>\n",
       "      <td>83</td>\n",
       "      <td>6.03</td>\n",
       "      <td>268.6</td>\n",
       "      <td>38.7</td>\n",
       "      <td>N</td>\n",
       "      <td>2</td>\n",
       "    </tr>\n",
       "    <tr>\n",
       "      <th>4512</th>\n",
       "      <td>69.3691</td>\n",
       "      <td>88.1216</td>\n",
       "      <td>304.3</td>\n",
       "      <td>1.0</td>\n",
       "      <td>1.0</td>\n",
       "      <td>2022-09-28</td>\n",
       "      <td>1446</td>\n",
       "      <td>Terra</td>\n",
       "      <td>MODIS</td>\n",
       "      <td>59</td>\n",
       "      <td>6.03</td>\n",
       "      <td>270.1</td>\n",
       "      <td>12.0</td>\n",
       "      <td>N</td>\n",
       "      <td>2</td>\n",
       "    </tr>\n",
       "    <tr>\n",
       "      <th>4513</th>\n",
       "      <td>69.3715</td>\n",
       "      <td>88.1327</td>\n",
       "      <td>322.9</td>\n",
       "      <td>1.1</td>\n",
       "      <td>1.1</td>\n",
       "      <td>2022-10-13</td>\n",
       "      <td>2051</td>\n",
       "      <td>Aqua</td>\n",
       "      <td>MODIS</td>\n",
       "      <td>100</td>\n",
       "      <td>6.03</td>\n",
       "      <td>267.8</td>\n",
       "      <td>32.9</td>\n",
       "      <td>N</td>\n",
       "      <td>2</td>\n",
       "    </tr>\n",
       "  </tbody>\n",
       "</table>\n",
       "<p>4514 rows × 15 columns</p>\n",
       "</div>"
      ],
      "text/plain": [
       "      latitude  longitude  brightness  scan  track    acq_date  acq_time  \\\n",
       "0      69.3681    88.1128       310.7   1.1    1.0  2001-05-09      1535   \n",
       "1      69.3674    88.1255       322.6   1.2    1.1  2001-05-23      1547   \n",
       "2      69.3737    88.0945       303.3   2.2    1.4  2001-06-08       742   \n",
       "3      69.3597    88.1351       305.4   2.2    1.5  2001-06-08       742   \n",
       "4      69.3093    88.2542       307.4   1.9    1.3  2001-06-09       509   \n",
       "...        ...        ...         ...   ...    ...         ...       ...   \n",
       "4509   69.3669    88.0956       324.7   1.5    1.2  2022-09-20      1358   \n",
       "4510   69.3752    88.1272       326.3   1.5    1.2  2022-09-20      1358   \n",
       "4511   69.3684    88.1217       311.5   1.8    1.3  2022-09-25      1554   \n",
       "4512   69.3691    88.1216       304.3   1.0    1.0  2022-09-28      1446   \n",
       "4513   69.3715    88.1327       322.9   1.1    1.1  2022-10-13      2051   \n",
       "\n",
       "     satellite instrument  confidence  version  bright_t31   frp daynight  \\\n",
       "0        Terra      MODIS          72     6.03       267.0  17.8        N   \n",
       "1        Terra      MODIS         100     6.03       268.1  32.5        N   \n",
       "2        Terra      MODIS          52     6.03       275.9  24.1        D   \n",
       "3        Terra      MODIS          61     6.03       278.3  27.0        D   \n",
       "4        Terra      MODIS          50     6.03       286.4  20.7        D   \n",
       "...        ...        ...         ...      ...         ...   ...      ...   \n",
       "4509     Terra      MODIS         100     6.03       269.8  53.8        N   \n",
       "4510     Terra      MODIS         100     6.03       270.6  57.0        N   \n",
       "4511     Terra      MODIS          83     6.03       268.6  38.7        N   \n",
       "4512     Terra      MODIS          59     6.03       270.1  12.0        N   \n",
       "4513      Aqua      MODIS         100     6.03       267.8  32.9        N   \n",
       "\n",
       "      type  \n",
       "0        2  \n",
       "1        2  \n",
       "2        2  \n",
       "3        2  \n",
       "4        2  \n",
       "...    ...  \n",
       "4509     2  \n",
       "4510     2  \n",
       "4511     2  \n",
       "4512     2  \n",
       "4513     2  \n",
       "\n",
       "[4514 rows x 15 columns]"
      ]
     },
     "metadata": {},
     "output_type": "display_data"
    }
   ],
   "source": [
    "display(fires_M)"
   ]
  },
  {
   "cell_type": "code",
   "execution_count": 144,
   "id": "fb50ef02",
   "metadata": {},
   "outputs": [
    {
     "data": {
      "text/plain": [
       "(array([ 58., 140., 178., 269., 266., 294., 285., 369., 388., 416., 426.,\n",
       "        416., 360., 240., 186., 126.,  61.,  30.,   4.,   2.]),\n",
       " array([264.9  , 267.255, 269.61 , 271.965, 274.32 , 276.675, 279.03 ,\n",
       "        281.385, 283.74 , 286.095, 288.45 , 290.805, 293.16 , 295.515,\n",
       "        297.87 , 300.225, 302.58 , 304.935, 307.29 , 309.645, 312.   ]),\n",
       " <BarContainer object of 20 artists>)"
      ]
     },
     "execution_count": 144,
     "metadata": {},
     "output_type": "execute_result"
    },
    {
     "data": {
      "image/png": "[encoded data removed]",
      "text/plain": [
       "<Figure size 640x480 with 1 Axes>"
      ]
     },
     "metadata": {},
     "output_type": "display_data"
    }
   ],
   "source": [
    "plt.hist(fires_M[['bright_t31']],bins=20)"
   ]
  },
  {
   "cell_type": "code",
   "execution_count": 145,
   "id": "c5e1eecb",
   "metadata": {},
   "outputs": [
    {
     "data": {
      "text/plain": [
       "(array([3.069e+03, 1.154e+03, 2.240e+02, 4.200e+01, 1.000e+01, 4.000e+00,\n",
       "        4.000e+00, 1.000e+00, 0.000e+00, 1.000e+00, 0.000e+00, 0.000e+00,\n",
       "        1.000e+00, 1.000e+00, 1.000e+00, 1.000e+00, 0.000e+00, 0.000e+00,\n",
       "        0.000e+00, 1.000e+00]),\n",
       " array([  0.  ,  28.16,  56.32,  84.48, 112.64, 140.8 , 168.96, 197.12,\n",
       "        225.28, 253.44, 281.6 , 309.76, 337.92, 366.08, 394.24, 422.4 ,\n",
       "        450.56, 478.72, 506.88, 535.04, 563.2 ]),\n",
       " <BarContainer object of 20 artists>)"
      ]
     },
     "execution_count": 145,
     "metadata": {},
     "output_type": "execute_result"
    },
    {
     "data": {
      "image/png": "[encoded data removed]",
      "text/plain": [
       "<Figure size 640x480 with 1 Axes>"
      ]
     },
     "metadata": {},
     "output_type": "display_data"
    }
   ],
   "source": [
    "plt.hist(fires_M[['frp']],bins=20)"
   ]
  },
  {
   "cell_type": "code",
   "execution_count": 146,
   "id": "edb04e43",
   "metadata": {},
   "outputs": [
    {
     "data": {
      "text/plain": [
       "(array([ 60.,   3.,  18.,  29.,  52.,  77., 115., 163., 234., 308., 385.,\n",
       "        462., 479., 500., 404., 306., 201., 190., 123., 405.]),\n",
       " array([  0.,   5.,  10.,  15.,  20.,  25.,  30.,  35.,  40.,  45.,  50.,\n",
       "         55.,  60.,  65.,  70.,  75.,  80.,  85.,  90.,  95., 100.]),\n",
       " <BarContainer object of 20 artists>)"
      ]
     },
     "execution_count": 146,
     "metadata": {},
     "output_type": "execute_result"
    },
    {
     "data": {
      "image/png": "[encoded data removed]",
      "text/plain": [
       "<Figure size 640x480 with 1 Axes>"
      ]
     },
     "metadata": {},
     "output_type": "display_data"
    }
   ],
   "source": [
    "plt.hist(fires_M[['confidence']],bins=20)"
   ]
  },
  {
   "cell_type": "markdown",
   "id": "19654838",
   "metadata": {},
   "source": [
    "#### Extract points inside ERA5 pixel 3,5"
   ]
  },
  {
   "cell_type": "code",
   "execution_count": 206,
   "id": "14237d77",
   "metadata": {},
   "outputs": [
    {
     "data": {
      "text/html": [
       "<div>\n",
       "<style scoped>\n",
       "    .dataframe tbody tr th:only-of-type {\n",
       "        vertical-align: middle;\n",
       "    }\n",
       "\n",
       "    .dataframe tbody tr th {\n",
       "        vertical-align: top;\n",
       "    }\n",
       "\n",
       "    .dataframe thead th {\n",
       "        text-align: right;\n",
       "    }\n",
       "</style>\n",
       "<table border=\"1\" class=\"dataframe\">\n",
       "  <thead>\n",
       "    <tr style=\"text-align: right;\">\n",
       "      <th></th>\n",
       "      <th>latitude</th>\n",
       "      <th>longitude</th>\n",
       "      <th>brightness</th>\n",
       "      <th>scan</th>\n",
       "      <th>track</th>\n",
       "      <th>acq_date</th>\n",
       "      <th>acq_time</th>\n",
       "      <th>satellite</th>\n",
       "      <th>instrument</th>\n",
       "      <th>confidence</th>\n",
       "      <th>version</th>\n",
       "      <th>bright_t31</th>\n",
       "      <th>frp</th>\n",
       "      <th>daynight</th>\n",
       "      <th>type</th>\n",
       "    </tr>\n",
       "  </thead>\n",
       "  <tbody>\n",
       "    <tr>\n",
       "      <th>1</th>\n",
       "      <td>69.3674</td>\n",
       "      <td>88.1255</td>\n",
       "      <td>322.6</td>\n",
       "      <td>1.2</td>\n",
       "      <td>1.1</td>\n",
       "      <td>2001-05-23</td>\n",
       "      <td>1547</td>\n",
       "      <td>Terra</td>\n",
       "      <td>MODIS</td>\n",
       "      <td>100</td>\n",
       "      <td>6.03</td>\n",
       "      <td>268.1</td>\n",
       "      <td>32.5</td>\n",
       "      <td>N</td>\n",
       "      <td>2</td>\n",
       "    </tr>\n",
       "    <tr>\n",
       "      <th>3</th>\n",
       "      <td>69.3597</td>\n",
       "      <td>88.1351</td>\n",
       "      <td>305.4</td>\n",
       "      <td>2.2</td>\n",
       "      <td>1.5</td>\n",
       "      <td>2001-06-08</td>\n",
       "      <td>742</td>\n",
       "      <td>Terra</td>\n",
       "      <td>MODIS</td>\n",
       "      <td>61</td>\n",
       "      <td>6.03</td>\n",
       "      <td>278.3</td>\n",
       "      <td>27.0</td>\n",
       "      <td>D</td>\n",
       "      <td>2</td>\n",
       "    </tr>\n",
       "    <tr>\n",
       "      <th>4</th>\n",
       "      <td>69.3093</td>\n",
       "      <td>88.2542</td>\n",
       "      <td>307.4</td>\n",
       "      <td>1.9</td>\n",
       "      <td>1.3</td>\n",
       "      <td>2001-06-09</td>\n",
       "      <td>509</td>\n",
       "      <td>Terra</td>\n",
       "      <td>MODIS</td>\n",
       "      <td>50</td>\n",
       "      <td>6.03</td>\n",
       "      <td>286.4</td>\n",
       "      <td>20.7</td>\n",
       "      <td>D</td>\n",
       "      <td>2</td>\n",
       "    </tr>\n",
       "    <tr>\n",
       "      <th>5</th>\n",
       "      <td>69.3119</td>\n",
       "      <td>88.2060</td>\n",
       "      <td>301.8</td>\n",
       "      <td>1.9</td>\n",
       "      <td>1.3</td>\n",
       "      <td>2001-06-09</td>\n",
       "      <td>509</td>\n",
       "      <td>Terra</td>\n",
       "      <td>MODIS</td>\n",
       "      <td>23</td>\n",
       "      <td>6.03</td>\n",
       "      <td>287.9</td>\n",
       "      <td>11.4</td>\n",
       "      <td>D</td>\n",
       "      <td>2</td>\n",
       "    </tr>\n",
       "    <tr>\n",
       "      <th>6</th>\n",
       "      <td>69.3720</td>\n",
       "      <td>88.1256</td>\n",
       "      <td>303.2</td>\n",
       "      <td>2.2</td>\n",
       "      <td>1.4</td>\n",
       "      <td>2001-06-09</td>\n",
       "      <td>1630</td>\n",
       "      <td>Terra</td>\n",
       "      <td>MODIS</td>\n",
       "      <td>54</td>\n",
       "      <td>6.03</td>\n",
       "      <td>278.2</td>\n",
       "      <td>30.0</td>\n",
       "      <td>N</td>\n",
       "      <td>2</td>\n",
       "    </tr>\n",
       "    <tr>\n",
       "      <th>...</th>\n",
       "      <td>...</td>\n",
       "      <td>...</td>\n",
       "      <td>...</td>\n",
       "      <td>...</td>\n",
       "      <td>...</td>\n",
       "      <td>...</td>\n",
       "      <td>...</td>\n",
       "      <td>...</td>\n",
       "      <td>...</td>\n",
       "      <td>...</td>\n",
       "      <td>...</td>\n",
       "      <td>...</td>\n",
       "      <td>...</td>\n",
       "      <td>...</td>\n",
       "      <td>...</td>\n",
       "    </tr>\n",
       "    <tr>\n",
       "      <th>4491</th>\n",
       "      <td>69.3743</td>\n",
       "      <td>88.1382</td>\n",
       "      <td>315.7</td>\n",
       "      <td>1.0</td>\n",
       "      <td>1.0</td>\n",
       "      <td>2022-08-26</td>\n",
       "      <td>2104</td>\n",
       "      <td>Aqua</td>\n",
       "      <td>MODIS</td>\n",
       "      <td>92</td>\n",
       "      <td>6.03</td>\n",
       "      <td>275.0</td>\n",
       "      <td>19.8</td>\n",
       "      <td>N</td>\n",
       "      <td>2</td>\n",
       "    </tr>\n",
       "    <tr>\n",
       "      <th>4493</th>\n",
       "      <td>69.3682</td>\n",
       "      <td>88.1332</td>\n",
       "      <td>307.2</td>\n",
       "      <td>1.7</td>\n",
       "      <td>1.3</td>\n",
       "      <td>2022-08-28</td>\n",
       "      <td>1352</td>\n",
       "      <td>Terra</td>\n",
       "      <td>MODIS</td>\n",
       "      <td>70</td>\n",
       "      <td>6.03</td>\n",
       "      <td>273.9</td>\n",
       "      <td>25.7</td>\n",
       "      <td>N</td>\n",
       "      <td>2</td>\n",
       "    </tr>\n",
       "    <tr>\n",
       "      <th>4494</th>\n",
       "      <td>69.3716</td>\n",
       "      <td>88.1351</td>\n",
       "      <td>307.0</td>\n",
       "      <td>1.4</td>\n",
       "      <td>1.2</td>\n",
       "      <td>2022-09-01</td>\n",
       "      <td>703</td>\n",
       "      <td>Aqua</td>\n",
       "      <td>MODIS</td>\n",
       "      <td>65</td>\n",
       "      <td>6.03</td>\n",
       "      <td>278.1</td>\n",
       "      <td>17.6</td>\n",
       "      <td>D</td>\n",
       "      <td>2</td>\n",
       "    </tr>\n",
       "    <tr>\n",
       "      <th>4498</th>\n",
       "      <td>69.3743</td>\n",
       "      <td>88.1259</td>\n",
       "      <td>317.8</td>\n",
       "      <td>1.0</td>\n",
       "      <td>1.0</td>\n",
       "      <td>2022-09-01</td>\n",
       "      <td>1506</td>\n",
       "      <td>Terra</td>\n",
       "      <td>MODIS</td>\n",
       "      <td>96</td>\n",
       "      <td>6.03</td>\n",
       "      <td>279.0</td>\n",
       "      <td>20.6</td>\n",
       "      <td>N</td>\n",
       "      <td>2</td>\n",
       "    </tr>\n",
       "    <tr>\n",
       "      <th>4513</th>\n",
       "      <td>69.3715</td>\n",
       "      <td>88.1327</td>\n",
       "      <td>322.9</td>\n",
       "      <td>1.1</td>\n",
       "      <td>1.1</td>\n",
       "      <td>2022-10-13</td>\n",
       "      <td>2051</td>\n",
       "      <td>Aqua</td>\n",
       "      <td>MODIS</td>\n",
       "      <td>100</td>\n",
       "      <td>6.03</td>\n",
       "      <td>267.8</td>\n",
       "      <td>32.9</td>\n",
       "      <td>N</td>\n",
       "      <td>2</td>\n",
       "    </tr>\n",
       "  </tbody>\n",
       "</table>\n",
       "<p>2204 rows × 15 columns</p>\n",
       "</div>"
      ],
      "text/plain": [
       "      latitude  longitude  brightness  scan  track    acq_date  acq_time  \\\n",
       "1      69.3674    88.1255       322.6   1.2    1.1  2001-05-23      1547   \n",
       "3      69.3597    88.1351       305.4   2.2    1.5  2001-06-08       742   \n",
       "4      69.3093    88.2542       307.4   1.9    1.3  2001-06-09       509   \n",
       "5      69.3119    88.2060       301.8   1.9    1.3  2001-06-09       509   \n",
       "6      69.3720    88.1256       303.2   2.2    1.4  2001-06-09      1630   \n",
       "...        ...        ...         ...   ...    ...         ...       ...   \n",
       "4491   69.3743    88.1382       315.7   1.0    1.0  2022-08-26      2104   \n",
       "4493   69.3682    88.1332       307.2   1.7    1.3  2022-08-28      1352   \n",
       "4494   69.3716    88.1351       307.0   1.4    1.2  2022-09-01       703   \n",
       "4498   69.3743    88.1259       317.8   1.0    1.0  2022-09-01      1506   \n",
       "4513   69.3715    88.1327       322.9   1.1    1.1  2022-10-13      2051   \n",
       "\n",
       "     satellite instrument  confidence  version  bright_t31   frp daynight  \\\n",
       "1        Terra      MODIS         100     6.03       268.1  32.5        N   \n",
       "3        Terra      MODIS          61     6.03       278.3  27.0        D   \n",
       "4        Terra      MODIS          50     6.03       286.4  20.7        D   \n",
       "5        Terra      MODIS          23     6.03       287.9  11.4        D   \n",
       "6        Terra      MODIS          54     6.03       278.2  30.0        N   \n",
       "...        ...        ...         ...      ...         ...   ...      ...   \n",
       "4491      Aqua      MODIS          92     6.03       275.0  19.8        N   \n",
       "4493     Terra      MODIS          70     6.03       273.9  25.7        N   \n",
       "4494      Aqua      MODIS          65     6.03       278.1  17.6        D   \n",
       "4498     Terra      MODIS          96     6.03       279.0  20.6        N   \n",
       "4513      Aqua      MODIS         100     6.03       267.8  32.9        N   \n",
       "\n",
       "      type  \n",
       "1        2  \n",
       "3        2  \n",
       "4        2  \n",
       "5        2  \n",
       "6        2  \n",
       "...    ...  \n",
       "4491     2  \n",
       "4493     2  \n",
       "4494     2  \n",
       "4498     2  \n",
       "4513     2  \n",
       "\n",
       "[2204 rows x 15 columns]"
      ]
     },
     "metadata": {},
     "output_type": "display_data"
    },
    {
     "name": "stdout",
     "output_type": "stream",
     "text": [
      "<class 'pandas.core.frame.DataFrame'>\n",
      "Index: 2204 entries, 1 to 4513\n",
      "Data columns (total 15 columns):\n",
      " #   Column      Non-Null Count  Dtype  \n",
      "---  ------      --------------  -----  \n",
      " 0   latitude    2204 non-null   float64\n",
      " 1   longitude   2204 non-null   float64\n",
      " 2   brightness  2204 non-null   float64\n",
      " 3   scan        2204 non-null   float64\n",
      " 4   track       2204 non-null   float64\n",
      " 5   acq_date    2204 non-null   object \n",
      " 6   acq_time    2204 non-null   int64  \n",
      " 7   satellite   2204 non-null   object \n",
      " 8   instrument  2204 non-null   object \n",
      " 9   confidence  2204 non-null   int64  \n",
      " 10  version     2204 non-null   float64\n",
      " 11  bright_t31  2204 non-null   float64\n",
      " 12  frp         2204 non-null   float64\n",
      " 13  daynight    2204 non-null   object \n",
      " 14  type        2204 non-null   int64  \n",
      "dtypes: float64(8), int64(3), object(4)\n",
      "memory usage: 275.5+ KB\n",
      "None\n"
     ]
    }
   ],
   "source": [
    "fires = fires_M.loc[\n",
    "     (fires_M['longitude']>=(longitude[5]-0.125)) & \n",
    "     (fires_M['longitude']<(longitude[5]+0.125)) &\n",
    "     (fires_M['latitude']>=(latitude[3]-0.125)) &\n",
    "     (fires_M['latitude']<(latitude[3]+0.125))\n",
    "         ]\n",
    "\n",
    "display(pd.DataFrame(fires))\n",
    "print(fires.info())"
   ]
  },
  {
   "cell_type": "code",
   "execution_count": 332,
   "id": "1be761cd",
   "metadata": {},
   "outputs": [
    {
     "data": {
      "text/html": [
       "<div>\n",
       "<style scoped>\n",
       "    .dataframe tbody tr th:only-of-type {\n",
       "        vertical-align: middle;\n",
       "    }\n",
       "\n",
       "    .dataframe tbody tr th {\n",
       "        vertical-align: top;\n",
       "    }\n",
       "\n",
       "    .dataframe thead th {\n",
       "        text-align: right;\n",
       "    }\n",
       "</style>\n",
       "<table border=\"1\" class=\"dataframe\">\n",
       "  <thead>\n",
       "    <tr style=\"text-align: right;\">\n",
       "      <th></th>\n",
       "      <th>confidence</th>\n",
       "      <th>frp</th>\n",
       "      <th>bright_t31</th>\n",
       "    </tr>\n",
       "    <tr>\n",
       "      <th>acq_date</th>\n",
       "      <th></th>\n",
       "      <th></th>\n",
       "      <th></th>\n",
       "    </tr>\n",
       "  </thead>\n",
       "  <tbody>\n",
       "    <tr>\n",
       "      <th>2001-05-23</th>\n",
       "      <td>100.000000</td>\n",
       "      <td>32.500000</td>\n",
       "      <td>268.100000</td>\n",
       "    </tr>\n",
       "    <tr>\n",
       "      <th>2001-06-08</th>\n",
       "      <td>61.000000</td>\n",
       "      <td>27.000000</td>\n",
       "      <td>278.300000</td>\n",
       "    </tr>\n",
       "    <tr>\n",
       "      <th>2001-06-09</th>\n",
       "      <td>42.333333</td>\n",
       "      <td>20.700000</td>\n",
       "      <td>284.166667</td>\n",
       "    </tr>\n",
       "    <tr>\n",
       "      <th>2001-06-10</th>\n",
       "      <td>62.000000</td>\n",
       "      <td>12.000000</td>\n",
       "      <td>281.400000</td>\n",
       "    </tr>\n",
       "    <tr>\n",
       "      <th>2001-06-11</th>\n",
       "      <td>43.333333</td>\n",
       "      <td>25.066667</td>\n",
       "      <td>282.800000</td>\n",
       "    </tr>\n",
       "    <tr>\n",
       "      <th>...</th>\n",
       "      <td>...</td>\n",
       "      <td>...</td>\n",
       "      <td>...</td>\n",
       "    </tr>\n",
       "    <tr>\n",
       "      <th>2022-08-20</th>\n",
       "      <td>52.000000</td>\n",
       "      <td>11.400000</td>\n",
       "      <td>275.900000</td>\n",
       "    </tr>\n",
       "    <tr>\n",
       "      <th>2022-08-26</th>\n",
       "      <td>92.000000</td>\n",
       "      <td>19.800000</td>\n",
       "      <td>275.000000</td>\n",
       "    </tr>\n",
       "    <tr>\n",
       "      <th>2022-08-28</th>\n",
       "      <td>70.000000</td>\n",
       "      <td>25.700000</td>\n",
       "      <td>273.900000</td>\n",
       "    </tr>\n",
       "    <tr>\n",
       "      <th>2022-09-01</th>\n",
       "      <td>80.500000</td>\n",
       "      <td>19.100000</td>\n",
       "      <td>278.550000</td>\n",
       "    </tr>\n",
       "    <tr>\n",
       "      <th>2022-10-13</th>\n",
       "      <td>100.000000</td>\n",
       "      <td>32.900000</td>\n",
       "      <td>267.800000</td>\n",
       "    </tr>\n",
       "  </tbody>\n",
       "</table>\n",
       "<p>1041 rows × 3 columns</p>\n",
       "</div>"
      ],
      "text/plain": [
       "            confidence        frp  bright_t31\n",
       "acq_date                                     \n",
       "2001-05-23  100.000000  32.500000  268.100000\n",
       "2001-06-08   61.000000  27.000000  278.300000\n",
       "2001-06-09   42.333333  20.700000  284.166667\n",
       "2001-06-10   62.000000  12.000000  281.400000\n",
       "2001-06-11   43.333333  25.066667  282.800000\n",
       "...                ...        ...         ...\n",
       "2022-08-20   52.000000  11.400000  275.900000\n",
       "2022-08-26   92.000000  19.800000  275.000000\n",
       "2022-08-28   70.000000  25.700000  273.900000\n",
       "2022-09-01   80.500000  19.100000  278.550000\n",
       "2022-10-13  100.000000  32.900000  267.800000\n",
       "\n",
       "[1041 rows x 3 columns]"
      ]
     },
     "metadata": {},
     "output_type": "display_data"
    },
    {
     "data": {
      "text/html": [
       "<div>\n",
       "<style scoped>\n",
       "    .dataframe tbody tr th:only-of-type {\n",
       "        vertical-align: middle;\n",
       "    }\n",
       "\n",
       "    .dataframe tbody tr th {\n",
       "        vertical-align: top;\n",
       "    }\n",
       "\n",
       "    .dataframe thead th {\n",
       "        text-align: right;\n",
       "    }\n",
       "</style>\n",
       "<table border=\"1\" class=\"dataframe\">\n",
       "  <thead>\n",
       "    <tr style=\"text-align: right;\">\n",
       "      <th></th>\n",
       "      <th>0</th>\n",
       "      <th>confidence</th>\n",
       "      <th>frp</th>\n",
       "      <th>bright_t31</th>\n",
       "    </tr>\n",
       "  </thead>\n",
       "  <tbody>\n",
       "    <tr>\n",
       "      <th>0</th>\n",
       "      <td>NaT</td>\n",
       "      <td>0.0</td>\n",
       "      <td>0.0</td>\n",
       "      <td>0.0</td>\n",
       "    </tr>\n",
       "    <tr>\n",
       "      <th>1</th>\n",
       "      <td>NaT</td>\n",
       "      <td>0.0</td>\n",
       "      <td>0.0</td>\n",
       "      <td>0.0</td>\n",
       "    </tr>\n",
       "    <tr>\n",
       "      <th>2</th>\n",
       "      <td>NaT</td>\n",
       "      <td>0.0</td>\n",
       "      <td>0.0</td>\n",
       "      <td>0.0</td>\n",
       "    </tr>\n",
       "    <tr>\n",
       "      <th>3</th>\n",
       "      <td>NaT</td>\n",
       "      <td>0.0</td>\n",
       "      <td>0.0</td>\n",
       "      <td>0.0</td>\n",
       "    </tr>\n",
       "    <tr>\n",
       "      <th>4</th>\n",
       "      <td>NaT</td>\n",
       "      <td>0.0</td>\n",
       "      <td>0.0</td>\n",
       "      <td>0.0</td>\n",
       "    </tr>\n",
       "    <tr>\n",
       "      <th>...</th>\n",
       "      <td>...</td>\n",
       "      <td>...</td>\n",
       "      <td>...</td>\n",
       "      <td>...</td>\n",
       "    </tr>\n",
       "    <tr>\n",
       "      <th>8397</th>\n",
       "      <td>NaT</td>\n",
       "      <td>0.0</td>\n",
       "      <td>0.0</td>\n",
       "      <td>0.0</td>\n",
       "    </tr>\n",
       "    <tr>\n",
       "      <th>8398</th>\n",
       "      <td>NaT</td>\n",
       "      <td>0.0</td>\n",
       "      <td>0.0</td>\n",
       "      <td>0.0</td>\n",
       "    </tr>\n",
       "    <tr>\n",
       "      <th>8399</th>\n",
       "      <td>NaT</td>\n",
       "      <td>0.0</td>\n",
       "      <td>0.0</td>\n",
       "      <td>0.0</td>\n",
       "    </tr>\n",
       "    <tr>\n",
       "      <th>8400</th>\n",
       "      <td>NaT</td>\n",
       "      <td>0.0</td>\n",
       "      <td>0.0</td>\n",
       "      <td>0.0</td>\n",
       "    </tr>\n",
       "    <tr>\n",
       "      <th>8401</th>\n",
       "      <td>NaT</td>\n",
       "      <td>0.0</td>\n",
       "      <td>0.0</td>\n",
       "      <td>0.0</td>\n",
       "    </tr>\n",
       "  </tbody>\n",
       "</table>\n",
       "<p>8402 rows × 4 columns</p>\n",
       "</div>"
      ],
      "text/plain": [
       "        0  confidence  frp  bright_t31\n",
       "0     NaT         0.0  0.0         0.0\n",
       "1     NaT         0.0  0.0         0.0\n",
       "2     NaT         0.0  0.0         0.0\n",
       "3     NaT         0.0  0.0         0.0\n",
       "4     NaT         0.0  0.0         0.0\n",
       "...   ...         ...  ...         ...\n",
       "8397  NaT         0.0  0.0         0.0\n",
       "8398  NaT         0.0  0.0         0.0\n",
       "8399  NaT         0.0  0.0         0.0\n",
       "8400  NaT         0.0  0.0         0.0\n",
       "8401  NaT         0.0  0.0         0.0\n",
       "\n",
       "[8402 rows x 4 columns]"
      ]
     },
     "metadata": {},
     "output_type": "display_data"
    }
   ],
   "source": [
    "fires_groupped = fires[['confidence','frp','bright_t31','acq_date']].groupby('acq_date').mean()\n",
    "display(fires_groupped)\n",
    "fires_target =dates.merge(fires_groupped, right_index=True, left_on=0, how=\"left\")\n",
    "fires_target = fires_target.fillna(0)\n",
    "\n",
    "display(fires_target)"
   ]
  },
  {
   "cell_type": "code",
   "execution_count": 333,
   "id": "a1855d23",
   "metadata": {},
   "outputs": [],
   "source": [
    "fires_target = fires_target.iloc[num]"
   ]
  },
  {
   "cell_type": "markdown",
   "id": "4a7ca044",
   "metadata": {},
   "source": [
    "# Create features and target"
   ]
  },
  {
   "cell_type": "code",
   "execution_count": 330,
   "id": "b215add8",
   "metadata": {},
   "outputs": [],
   "source": [
    "features = pd.DataFrame(precipitation)\n",
    "features['precipitation'] = precipitation\n",
    "features = features.drop(0, axis=1)\n",
    "features['temperature'] = temperature\n",
    "features['dewpoint'] = dewpoint\n",
    "features['nesterov_index'] = nesterov_index"
   ]
  },
  {
   "cell_type": "code",
   "execution_count": 331,
   "id": "67fa510b",
   "metadata": {},
   "outputs": [
    {
     "name": "stdout",
     "output_type": "stream",
     "text": [
      "<class 'pandas.core.frame.DataFrame'>\n",
      "RangeIndex: 4209 entries, 0 to 4208\n",
      "Data columns (total 4 columns):\n",
      " #   Column          Non-Null Count  Dtype  \n",
      "---  ------          --------------  -----  \n",
      " 0   precipitation   4209 non-null   float32\n",
      " 1   temperature     4209 non-null   float32\n",
      " 2   dewpoint        4209 non-null   float32\n",
      " 3   nesterov_index  4209 non-null   float32\n",
      "dtypes: float32(4)\n",
      "memory usage: 65.9 KB\n"
     ]
    }
   ],
   "source": [
    "features.info()"
   ]
  },
  {
   "cell_type": "code",
   "execution_count": 334,
   "id": "1bebc7e6",
   "metadata": {},
   "outputs": [
    {
     "name": "stdout",
     "output_type": "stream",
     "text": [
      "<class 'pandas.core.series.Series'>\n",
      "Index: 4209 entries, 91 to 8308\n",
      "Series name: confidence\n",
      "Non-Null Count  Dtype  \n",
      "--------------  -----  \n",
      "4209 non-null   float64\n",
      "dtypes: float64(1)\n",
      "memory usage: 65.8 KB\n"
     ]
    }
   ],
   "source": [
    "target = fires_target['confidence']\n",
    "target.info()"
   ]
  },
  {
   "cell_type": "markdown",
   "id": "be130bac",
   "metadata": {},
   "source": [
    "### Modelling"
   ]
  },
  {
   "cell_type": "code",
   "execution_count": 335,
   "id": "c001e89b",
   "metadata": {},
   "outputs": [],
   "source": [
    "# split into train and target\n",
    "# take first 2000 observations as train\n",
    "# other 386 as test\n",
    "\n",
    "feat_train = features.iloc[:3000,]\n",
    "feat_test = features.iloc[3000:,]\n",
    "target_train = target.iloc[:3000,]\n",
    "target_test = target.iloc[3000:,]"
   ]
  },
  {
   "cell_type": "code",
   "execution_count": 336,
   "id": "be7f9c87",
   "metadata": {},
   "outputs": [],
   "source": [
    "# scale the train samples\n",
    "\n",
    "scaler = StandardScaler()\n",
    "scaler.fit(feat_train)\n",
    "feat_train_scaled = scaler.transform(feat_train)"
   ]
  },
  {
   "cell_type": "code",
   "execution_count": 337,
   "id": "c2c384e0",
   "metadata": {},
   "outputs": [
    {
     "name": "stderr",
     "output_type": "stream",
     "text": [
      "[I 2024-05-23 14:21:03,041] A new study created in memory with name: no-name-c91e0bf7-6cef-4639-8ef1-5500b5509616\n",
      "[I 2024-05-23 14:21:03,499] Trial 0 finished with value: -19.516911429029125 and parameters: {'max_depth': 4, 'criterion': 'friedman_mse', 'n_estimators': 44}. Best is trial 0 with value: -19.516911429029125.\n",
      "[I 2024-05-23 14:21:05,505] Trial 1 finished with value: -19.595352988097275 and parameters: {'max_depth': 14, 'criterion': 'poisson', 'n_estimators': 81}. Best is trial 0 with value: -19.516911429029125.\n",
      "[I 2024-05-23 14:21:05,685] Trial 2 finished with value: -19.50323213591439 and parameters: {'max_depth': 7, 'criterion': 'poisson', 'n_estimators': 10}. Best is trial 2 with value: -19.50323213591439.\n",
      "[I 2024-05-23 14:21:06,240] Trial 3 finished with value: -19.547629778381 and parameters: {'max_depth': 3, 'criterion': 'squared_error', 'n_estimators': 69}. Best is trial 2 with value: -19.50323213591439.\n",
      "[I 2024-05-23 14:21:09,952] Trial 4 finished with value: -12.936161592290626 and parameters: {'max_depth': 13, 'criterion': 'absolute_error', 'n_estimators': 25}. Best is trial 4 with value: -12.936161592290626.\n",
      "[I 2024-05-23 14:21:11,666] Trial 5 finished with value: -20.20265909741656 and parameters: {'max_depth': 17, 'criterion': 'friedman_mse', 'n_estimators': 69}. Best is trial 4 with value: -12.936161592290626.\n",
      "[I 2024-05-23 14:21:12,232] Trial 6 finished with value: -19.48593507007115 and parameters: {'max_depth': 8, 'criterion': 'friedman_mse', 'n_estimators': 34}. Best is trial 4 with value: -12.936161592290626.\n",
      "[I 2024-05-23 14:21:12,745] Trial 7 finished with value: -20.604754411532944 and parameters: {'max_depth': 20, 'criterion': 'friedman_mse', 'n_estimators': 20}. Best is trial 4 with value: -12.936161592290626.\n",
      "[I 2024-05-23 14:21:13,937] Trial 8 finished with value: -19.493966263880097 and parameters: {'max_depth': 7, 'criterion': 'squared_error', 'n_estimators': 79}. Best is trial 4 with value: -12.936161592290626.\n",
      "[I 2024-05-23 14:21:14,653] Trial 9 finished with value: -19.611964070941177 and parameters: {'max_depth': 9, 'criterion': 'poisson', 'n_estimators': 37}. Best is trial 4 with value: -12.936161592290626.\n",
      "[I 2024-05-23 14:21:45,365] Trial 10 finished with value: -13.203944959759475 and parameters: {'max_depth': 13, 'criterion': 'absolute_error', 'n_estimators': 100}. Best is trial 4 with value: -12.936161592290626.\n",
      "[I 2024-05-23 14:22:40,003] Trial 11 finished with value: -12.976463796657345 and parameters: {'max_depth': 14, 'criterion': 'absolute_error', 'n_estimators': 100}. Best is trial 4 with value: -12.936161592290626.\n",
      "[I 2024-05-23 14:22:55,484] Trial 12 finished with value: -12.94687328137149 and parameters: {'max_depth': 13, 'criterion': 'absolute_error', 'n_estimators': 99}. Best is trial 4 with value: -12.936161592290626.\n",
      "[I 2024-05-23 14:23:13,196] Trial 13 finished with value: -13.091840370271328 and parameters: {'max_depth': 11, 'criterion': 'absolute_error', 'n_estimators': 57}. Best is trial 4 with value: -12.936161592290626.\n",
      "[I 2024-05-23 14:23:16,767] Trial 14 finished with value: -13.487577342012825 and parameters: {'max_depth': 17, 'criterion': 'absolute_error', 'n_estimators': 22}. Best is trial 4 with value: -12.936161592290626.\n",
      "[I 2024-05-23 14:23:24,947] Trial 15 finished with value: -13.082338766371025 and parameters: {'max_depth': 11, 'criterion': 'absolute_error', 'n_estimators': 55}. Best is trial 4 with value: -12.936161592290626.\n",
      "[I 2024-05-23 14:23:25,965] Trial 16 finished with value: -12.610064210409833 and parameters: {'max_depth': 16, 'criterion': 'absolute_error', 'n_estimators': 7}. Best is trial 16 with value: -12.610064210409833.\n",
      "[I 2024-05-23 14:23:26,909] Trial 17 finished with value: -12.566663009289737 and parameters: {'max_depth': 17, 'criterion': 'absolute_error', 'n_estimators': 7}. Best is trial 17 with value: -12.566663009289737.\n",
      "[I 2024-05-23 14:23:28,082] Trial 18 finished with value: -14.420763069495788 and parameters: {'max_depth': 20, 'criterion': 'absolute_error', 'n_estimators': 7}. Best is trial 17 with value: -12.566663009289737.\n",
      "[I 2024-05-23 14:23:28,232] Trial 19 finished with value: -20.500306015188443 and parameters: {'max_depth': 17, 'criterion': 'squared_error', 'n_estimators': 5}. Best is trial 17 with value: -12.566663009289737.\n",
      "[I 2024-05-23 14:23:38,033] Trial 20 finished with value: -13.404669457819658 and parameters: {'max_depth': 16, 'criterion': 'absolute_error', 'n_estimators': 16}. Best is trial 17 with value: -12.566663009289737.\n",
      "[I 2024-05-23 14:23:43,812] Trial 21 finished with value: -12.861620271902531 and parameters: {'max_depth': 15, 'criterion': 'absolute_error', 'n_estimators': 28}. Best is trial 17 with value: -12.566663009289737.\n",
      "[I 2024-05-23 14:23:49,053] Trial 22 finished with value: -13.22416083518234 and parameters: {'max_depth': 19, 'criterion': 'absolute_error', 'n_estimators': 30}. Best is trial 17 with value: -12.566663009289737.\n",
      "[I 2024-05-23 14:23:51,079] Trial 23 finished with value: -12.933492427276029 and parameters: {'max_depth': 15, 'criterion': 'absolute_error', 'n_estimators': 12}. Best is trial 17 with value: -12.566663009289737.\n",
      "[I 2024-05-23 14:23:58,704] Trial 24 finished with value: -13.518828578050178 and parameters: {'max_depth': 18, 'criterion': 'absolute_error', 'n_estimators': 46}. Best is trial 17 with value: -12.566663009289737.\n",
      "[I 2024-05-23 14:24:03,034] Trial 25 finished with value: -13.060202167848523 and parameters: {'max_depth': 15, 'criterion': 'absolute_error', 'n_estimators': 27}. Best is trial 17 with value: -12.566663009289737.\n",
      "[I 2024-05-23 14:24:05,508] Trial 26 finished with value: -13.585992180422624 and parameters: {'max_depth': 18, 'criterion': 'absolute_error', 'n_estimators': 16}. Best is trial 17 with value: -12.566663009289737.\n",
      "[I 2024-05-23 14:24:06,394] Trial 27 finished with value: -19.7130822157721 and parameters: {'max_depth': 12, 'criterion': 'poisson', 'n_estimators': 39}. Best is trial 17 with value: -12.566663009289737.\n",
      "[I 2024-05-23 14:24:06,775] Trial 28 finished with value: -20.158235404807016 and parameters: {'max_depth': 16, 'criterion': 'squared_error', 'n_estimators': 15}. Best is trial 17 with value: -12.566663009289737.\n",
      "[I 2024-05-23 14:24:07,337] Trial 29 finished with value: -19.60417560457739 and parameters: {'max_depth': 5, 'criterion': 'friedman_mse', 'n_estimators': 47}. Best is trial 17 with value: -12.566663009289737.\n",
      "[I 2024-05-23 14:24:08,118] Trial 30 finished with value: -11.822749353394515 and parameters: {'max_depth': 1, 'criterion': 'absolute_error', 'n_estimators': 21}. Best is trial 30 with value: -11.822749353394515.\n",
      "[I 2024-05-23 14:24:08,505] Trial 31 finished with value: -11.931558942849266 and parameters: {'max_depth': 2, 'criterion': 'absolute_error', 'n_estimators': 6}. Best is trial 30 with value: -11.822749353394515.\n",
      "[I 2024-05-23 14:24:08,836] Trial 32 finished with value: -11.839408405214856 and parameters: {'max_depth': 2, 'criterion': 'absolute_error', 'n_estimators': 5}. Best is trial 30 with value: -11.822749353394515.\n",
      "[I 2024-05-23 14:24:09,233] Trial 33 finished with value: -11.835267241718853 and parameters: {'max_depth': 1, 'criterion': 'absolute_error', 'n_estimators': 12}. Best is trial 30 with value: -11.822749353394515.\n",
      "[I 2024-05-23 14:24:09,327] Trial 34 finished with value: -20.88604294109687 and parameters: {'max_depth': 1, 'criterion': 'poisson', 'n_estimators': 18}. Best is trial 30 with value: -11.822749353394515.\n",
      "[I 2024-05-23 14:24:09,825] Trial 35 finished with value: -11.84036213189439 and parameters: {'max_depth': 1, 'criterion': 'absolute_error', 'n_estimators': 12}. Best is trial 30 with value: -11.822749353394515.\n",
      "[I 2024-05-23 14:24:11,233] Trial 36 finished with value: -13.045677261806294 and parameters: {'max_depth': 4, 'criterion': 'absolute_error', 'n_estimators': 13}. Best is trial 30 with value: -11.822749353394515.\n",
      "[I 2024-05-23 14:24:11,349] Trial 37 finished with value: -20.75746245775281 and parameters: {'max_depth': 1, 'criterion': 'squared_error', 'n_estimators': 25}. Best is trial 30 with value: -11.822749353394515.\n",
      "[I 2024-05-23 14:24:11,540] Trial 38 finished with value: -19.732975901686753 and parameters: {'max_depth': 3, 'criterion': 'friedman_mse', 'n_estimators': 21}. Best is trial 30 with value: -11.822749353394515.\n"
     ]
    },
    {
     "name": "stderr",
     "output_type": "stream",
     "text": [
      "[I 2024-05-23 14:24:11,706] Trial 39 finished with value: -19.46381230596775 and parameters: {'max_depth': 5, 'criterion': 'poisson', 'n_estimators': 11}. Best is trial 30 with value: -11.822749353394515.\n",
      "[I 2024-05-23 14:24:13,732] Trial 40 finished with value: -11.840296620941784 and parameters: {'max_depth': 2, 'criterion': 'absolute_error', 'n_estimators': 33}. Best is trial 30 with value: -11.822749353394515.\n",
      "[I 2024-05-23 14:24:15,905] Trial 41 finished with value: -11.829889047630983 and parameters: {'max_depth': 2, 'criterion': 'absolute_error', 'n_estimators': 33}. Best is trial 30 with value: -11.822749353394515.\n",
      "[I 2024-05-23 14:24:18,865] Trial 42 finished with value: -11.986798267443428 and parameters: {'max_depth': 3, 'criterion': 'absolute_error', 'n_estimators': 33}. Best is trial 30 with value: -11.822749353394515.\n",
      "[I 2024-05-23 14:24:21,306] Trial 43 finished with value: -11.89343214454877 and parameters: {'max_depth': 2, 'criterion': 'absolute_error', 'n_estimators': 39}. Best is trial 30 with value: -11.822749353394515.\n",
      "[I 2024-05-23 14:24:24,139] Trial 44 finished with value: -12.576226909291426 and parameters: {'max_depth': 5, 'criterion': 'absolute_error', 'n_estimators': 23}. Best is trial 30 with value: -11.822749353394515.\n",
      "[I 2024-05-23 14:24:24,326] Trial 45 finished with value: -19.79545265680144 and parameters: {'max_depth': 2, 'criterion': 'friedman_mse', 'n_estimators': 29}. Best is trial 30 with value: -11.822749353394515.\n",
      "[I 2024-05-23 14:24:30,037] Trial 46 finished with value: -12.456170921635817 and parameters: {'max_depth': 4, 'criterion': 'absolute_error', 'n_estimators': 51}. Best is trial 30 with value: -11.822749353394515.\n",
      "[I 2024-05-23 14:24:34,314] Trial 47 finished with value: -12.879733522854965 and parameters: {'max_depth': 6, 'criterion': 'absolute_error', 'n_estimators': 34}. Best is trial 30 with value: -11.822749353394515.\n",
      "[I 2024-05-23 14:24:54,323] Trial 48 finished with value: -12.94709194697942 and parameters: {'max_depth': 9, 'criterion': 'absolute_error', 'n_estimators': 43}. Best is trial 30 with value: -11.822749353394515.\n",
      "[I 2024-05-23 14:24:55,717] Trial 49 finished with value: -19.8342447843132 and parameters: {'max_depth': 2, 'criterion': 'squared_error', 'n_estimators': 59}. Best is trial 30 with value: -11.822749353394515.\n",
      "[I 2024-05-23 14:24:56,602] Trial 50 finished with value: -19.458340285115824 and parameters: {'max_depth': 4, 'criterion': 'poisson', 'n_estimators': 19}. Best is trial 30 with value: -11.822749353394515.\n",
      "[I 2024-05-23 14:24:57,949] Trial 51 finished with value: -11.860086651699556 and parameters: {'max_depth': 1, 'criterion': 'absolute_error', 'n_estimators': 10}. Best is trial 30 with value: -11.822749353394515.\n",
      "[I 2024-05-23 14:25:01,802] Trial 52 finished with value: -11.830064115407733 and parameters: {'max_depth': 3, 'criterion': 'absolute_error', 'n_estimators': 23}. Best is trial 30 with value: -11.822749353394515.\n",
      "[I 2024-05-23 14:25:07,842] Trial 53 finished with value: -11.902489923457665 and parameters: {'max_depth': 3, 'criterion': 'absolute_error', 'n_estimators': 63}. Best is trial 30 with value: -11.822749353394515.\n",
      "[I 2024-05-23 14:25:09,873] Trial 54 finished with value: -11.849249443367091 and parameters: {'max_depth': 2, 'criterion': 'absolute_error', 'n_estimators': 34}. Best is trial 30 with value: -11.822749353394515.\n",
      "[I 2024-05-23 14:25:12,016] Trial 55 finished with value: -12.01971514894902 and parameters: {'max_depth': 3, 'criterion': 'absolute_error', 'n_estimators': 24}. Best is trial 30 with value: -11.822749353394515.\n",
      "[I 2024-05-23 14:25:22,928] Trial 56 finished with value: -12.838304340270634 and parameters: {'max_depth': 6, 'criterion': 'absolute_error', 'n_estimators': 89}. Best is trial 30 with value: -11.822749353394515.\n",
      "[I 2024-05-23 14:25:23,845] Trial 57 finished with value: -11.813996944387435 and parameters: {'max_depth': 1, 'criterion': 'absolute_error', 'n_estimators': 19}. Best is trial 57 with value: -11.813996944387435.\n",
      "[I 2024-05-23 14:25:26,114] Trial 58 finished with value: -11.786121942573557 and parameters: {'max_depth': 1, 'criterion': 'absolute_error', 'n_estimators': 18}. Best is trial 58 with value: -11.786121942573557.\n",
      "[I 2024-05-23 14:25:26,462] Trial 59 finished with value: -20.87483823158961 and parameters: {'max_depth': 1, 'criterion': 'friedman_mse', 'n_estimators': 19}. Best is trial 58 with value: -11.786121942573557.\n",
      "[I 2024-05-23 14:25:29,926] Trial 60 finished with value: -11.83318138988114 and parameters: {'max_depth': 1, 'criterion': 'absolute_error', 'n_estimators': 26}. Best is trial 58 with value: -11.786121942573557.\n",
      "[I 2024-05-23 14:25:33,556] Trial 61 finished with value: -11.819872022105272 and parameters: {'max_depth': 1, 'criterion': 'absolute_error', 'n_estimators': 26}. Best is trial 58 with value: -11.786121942573557.\n",
      "[I 2024-05-23 14:25:41,629] Trial 62 finished with value: -11.854880941440081 and parameters: {'max_depth': 3, 'criterion': 'absolute_error', 'n_estimators': 27}. Best is trial 58 with value: -11.786121942573557.\n",
      "[I 2024-05-23 14:25:44,268] Trial 63 finished with value: -11.839085168117427 and parameters: {'max_depth': 1, 'criterion': 'absolute_error', 'n_estimators': 21}. Best is trial 58 with value: -11.786121942573557.\n",
      "[I 2024-05-23 14:25:50,573] Trial 64 finished with value: -12.150919269499916 and parameters: {'max_depth': 4, 'criterion': 'absolute_error', 'n_estimators': 25}. Best is trial 58 with value: -11.786121942573557.\n",
      "[I 2024-05-23 14:25:53,432] Trial 65 finished with value: -11.830035185841636 and parameters: {'max_depth': 3, 'criterion': 'absolute_error', 'n_estimators': 30}. Best is trial 58 with value: -11.786121942573557.\n",
      "[I 2024-05-23 14:25:56,949] Trial 66 finished with value: -11.846851832335702 and parameters: {'max_depth': 3, 'criterion': 'absolute_error', 'n_estimators': 37}. Best is trial 58 with value: -11.786121942573557.\n",
      "[I 2024-05-23 14:25:57,580] Trial 67 finished with value: -19.405397123761755 and parameters: {'max_depth': 8, 'criterion': 'squared_error', 'n_estimators': 30}. Best is trial 58 with value: -11.786121942573557.\n",
      "[I 2024-05-23 14:25:58,551] Trial 68 finished with value: -11.825552142003755 and parameters: {'max_depth': 2, 'criterion': 'absolute_error', 'n_estimators': 15}. Best is trial 58 with value: -11.786121942573557.\n",
      "[I 2024-05-23 14:25:59,548] Trial 69 finished with value: -11.80893091003978 and parameters: {'max_depth': 2, 'criterion': 'absolute_error', 'n_estimators': 16}. Best is trial 58 with value: -11.786121942573557.\n"
     ]
    },
    {
     "name": "stdout",
     "output_type": "stream",
     "text": [
      "Number of finished trials: 70\n",
      "Best trial:\n",
      "  Value: -11.786121942573557\n",
      "  Params: \n",
      "    max_depth: 1\n",
      "    criterion: absolute_error\n",
      "    n_estimators: 18\n"
     ]
    }
   ],
   "source": [
    "#Optuna hyperparameter search for Random Forest\n",
    "\n",
    "def objective(trial: optuna.Trial) -> float:\n",
    "    param = {\n",
    "         \"max_depth\": trial.suggest_int(\"max_depth\", 1, 20),\n",
    "         \"criterion\": trial.suggest_categorical(\"criterion\",[\"squared_error\", \"absolute_error\", \"friedman_mse\", \"poisson\"]),\n",
    "         \n",
    "         \"n_estimators\": trial.suggest_int(\"n_estimators\",5, 100)\n",
    "    }\n",
    "    \n",
    "    RF_model = RandomForestRegressor(**param)\n",
    "    RF_model.fit(feat_train_scaled, \n",
    "                  target_train                 )\n",
    "    \n",
    "    preds = RF_model.predict(scaler.transform(feat_test))\n",
    "    accuracy = -mean_absolute_error(target_test, preds)\n",
    "    \n",
    "    return accuracy\n",
    "\n",
    "study = optuna.create_study(direction='maximize')\n",
    "study.optimize(objective, \n",
    "               n_trials=70              \n",
    "              )\n",
    "\n",
    "print(\"Number of finished trials: {}\".format(len(study.trials)))\n",
    "\n",
    "print(\"Best trial:\")\n",
    "trial = study.best_trial\n",
    "\n",
    "print(\"  Value: {}\".format(trial.value))\n",
    "print(\"  Params: \")\n",
    "for key, value in trial.params.items():\n",
    "    print(\"    {}: {}\".format(key, value))"
   ]
  },
  {
   "cell_type": "code",
   "execution_count": 338,
   "id": "c536535c",
   "metadata": {},
   "outputs": [],
   "source": [
    "best_params_RF = trial.params\n",
    "\n",
    "\n",
    "RF_model = RandomForestRegressor(**best_params_RF)\n",
    "RF_model.fit(feat_train_scaled, \n",
    "                  target_train )\n",
    "    \n",
    "predictions_RF = RF_model.predict(scaler.transform(feat_test))\n"
   ]
  },
  {
   "cell_type": "code",
   "execution_count": 345,
   "id": "b3b80a9d",
   "metadata": {},
   "outputs": [
    {
     "data": {
      "text/plain": [
       "[<matplotlib.lines.Line2D at 0x8f1f5078d0>]"
      ]
     },
     "execution_count": 345,
     "metadata": {},
     "output_type": "execute_result"
    },
    {
     "data": {
      "image/png": "[encoded data removed]",
      "text/plain": [
       "<Figure size 640x480 with 1 Axes>"
      ]
     },
     "metadata": {},
     "output_type": "display_data"
    }
   ],
   "source": [
    "plt.plot(target_test)\n",
    "plt.plot(predictions_RF)\n"
   ]
  },
  {
   "cell_type": "code",
   "execution_count": 315,
   "id": "1b686348",
   "metadata": {},
   "outputs": [
    {
     "data": {
      "text/plain": [
       "(array([1.195e+03, 1.000e+00, 0.000e+00, 0.000e+00, 1.100e+01, 1.000e+00,\n",
       "        0.000e+00, 0.000e+00, 0.000e+00, 1.000e+00]),\n",
       " array([0.        , 0.54353261, 1.08706522, 1.63059783, 2.17413043,\n",
       "        2.71766304, 3.26119565, 3.80472826, 4.34826087, 4.89179348,\n",
       "        5.43532609]),\n",
       " <BarContainer object of 10 artists>)"
      ]
     },
     "execution_count": 315,
     "metadata": {},
     "output_type": "execute_result"
    },
    {
     "data": {
      "image/png": "[encoded data removed]",
      "text/plain": [
       "<Figure size 640x480 with 1 Axes>"
      ]
     },
     "metadata": {},
     "output_type": "display_data"
    }
   ],
   "source": [
    "plt.hist(predictions_RF)"
   ]
  },
  {
   "cell_type": "code",
   "execution_count": null,
   "id": "71676d03",
   "metadata": {},
   "outputs": [],
   "source": []
  }
 ],
 "metadata": {
  "kernelspec": {
   "display_name": "Python 3 (ipykernel)",
   "language": "python",
   "name": "python3"
  },
  "language_info": {
   "codemirror_mode": {
    "name": "ipython",
    "version": 3
   },
   "file_extension": ".py",
   "mimetype": "text/x-python",
   "name": "python",
   "nbconvert_exporter": "python",
   "pygments_lexer": "ipython3",
   "version": "3.11.4"
  }
 },
 "nbformat": 4,
 "nbformat_minor": 5
}
